{
 "cells": [
  {
   "cell_type": "markdown",
   "metadata": {},
   "source": [
    "# Evaluation de Theories des jeux"
   ]
  },
  {
   "cell_type": "code",
   "execution_count": 1,
   "metadata": {},
   "outputs": [],
   "source": [
    "from sources import GameMatrix\n",
    "import numpy as np"
   ]
  },
  {
   "cell_type": "code",
   "execution_count": 2,
   "metadata": {},
   "outputs": [
    {
     "data": {
      "text/html": [
       "<div>\n",
       "<style scoped>\n",
       "    .dataframe tbody tr th:only-of-type {\n",
       "        vertical-align: middle;\n",
       "    }\n",
       "\n",
       "    .dataframe tbody tr th {\n",
       "        vertical-align: top;\n",
       "    }\n",
       "\n",
       "    .dataframe thead th {\n",
       "        text-align: right;\n",
       "    }\n",
       "</style>\n",
       "<table border=\"1\" class=\"dataframe\">\n",
       "  <thead>\n",
       "    <tr style=\"text-align: right;\">\n",
       "      <th></th>\n",
       "      <th>W</th>\n",
       "      <th>S</th>\n",
       "      <th>G</th>\n",
       "      <th>E</th>\n",
       "      <th>M</th>\n",
       "      <th>T</th>\n",
       "      <th>N</th>\n",
       "    </tr>\n",
       "  </thead>\n",
       "  <tbody>\n",
       "    <tr>\n",
       "      <th>W</th>\n",
       "      <td>D6</td>\n",
       "      <td>D10</td>\n",
       "      <td>D6</td>\n",
       "      <td>D12</td>\n",
       "      <td>D10</td>\n",
       "      <td>D3</td>\n",
       "      <td>D4</td>\n",
       "    </tr>\n",
       "    <tr>\n",
       "      <th>S</th>\n",
       "      <td>D6</td>\n",
       "      <td>D6</td>\n",
       "      <td>D3</td>\n",
       "      <td>D6</td>\n",
       "      <td>D6</td>\n",
       "      <td>D12</td>\n",
       "      <td>D4</td>\n",
       "    </tr>\n",
       "    <tr>\n",
       "      <th>G</th>\n",
       "      <td>D6</td>\n",
       "      <td>D12</td>\n",
       "      <td>D6</td>\n",
       "      <td>D4</td>\n",
       "      <td>D6</td>\n",
       "      <td>D10</td>\n",
       "      <td>D3</td>\n",
       "    </tr>\n",
       "    <tr>\n",
       "      <th>E</th>\n",
       "      <td>D3</td>\n",
       "      <td>D4</td>\n",
       "      <td>D6</td>\n",
       "      <td>D6</td>\n",
       "      <td>D12</td>\n",
       "      <td>D4</td>\n",
       "      <td>D6</td>\n",
       "    </tr>\n",
       "    <tr>\n",
       "      <th>M</th>\n",
       "      <td>D10</td>\n",
       "      <td>D6</td>\n",
       "      <td>D12</td>\n",
       "      <td>D3</td>\n",
       "      <td>D6</td>\n",
       "      <td>D6</td>\n",
       "      <td>D4</td>\n",
       "    </tr>\n",
       "    <tr>\n",
       "      <th>T</th>\n",
       "      <td>D6</td>\n",
       "      <td>D4</td>\n",
       "      <td>D10</td>\n",
       "      <td>D10</td>\n",
       "      <td>D6</td>\n",
       "      <td>D3</td>\n",
       "      <td>D12</td>\n",
       "    </tr>\n",
       "    <tr>\n",
       "      <th>N</th>\n",
       "      <td>D12</td>\n",
       "      <td>D10</td>\n",
       "      <td>D10</td>\n",
       "      <td>D3</td>\n",
       "      <td>D4</td>\n",
       "      <td>D6</td>\n",
       "      <td>D6</td>\n",
       "    </tr>\n",
       "  </tbody>\n",
       "</table>\n",
       "</div>"
      ],
      "text/plain": [
       "     W    S    G    E    M    T    N\n",
       "W   D6  D10   D6  D12  D10   D3   D4\n",
       "S   D6   D6   D3   D6   D6  D12   D4\n",
       "G   D6  D12   D6   D4   D6  D10   D3\n",
       "E   D3   D4   D6   D6  D12   D4   D6\n",
       "M  D10   D6  D12   D3   D6   D6   D4\n",
       "T   D6   D4  D10  D10   D6   D3  D12\n",
       "N  D12  D10  D10   D3   D4   D6   D6"
      ]
     },
     "execution_count": 2,
     "metadata": {},
     "output_type": "execute_result"
    }
   ],
   "source": [
    "game_matrix = GameMatrix()\n",
    "matrix_df = game_matrix.generate_df()\n",
    "matrix_df"
   ]
  },
  {
   "cell_type": "markdown",
   "metadata": {},
   "source": [
    "Calculons maintenant les probabilites de gain en fonction des differents duels: <br>\n",
    "**Exemple**:\n",
    "- Le joueur `1` fait `E`\n",
    "- Le joueur `2` fait `W`    \n",
    "- Le joueur `1` joue `D3`\n",
    "- Le joueur `2` joue `D12`\n",
    "- La probabilite que le joueur `1` gagne est donc la probabilite que le lancer d'un de de trois faces soit superieur a celui de 12 faces soit : $\\frac{3-1}{2*12}=\\frac{1}{12}\\approx 0.083$"
   ]
  },
  {
   "cell_type": "code",
   "execution_count": 3,
   "metadata": {},
   "outputs": [
    {
     "name": "stdout",
     "output_type": "stream",
     "text": [
      "Player 1 win rate: 0.65\n",
      "Player 2 win rate: 0.25\n",
      "Draw rate: 0.10\n"
     ]
    }
   ],
   "source": [
    "dice_1 = 10\n",
    "dice_2 = 6\n",
    "victory_case = np.zeros((dice_1, dice_2))\n",
    "for i in range(dice_1):\n",
    "    for j in range(dice_2):\n",
    "        if i> j:\n",
    "            victory_case[i, j] = 1\n",
    "        elif i == j:\n",
    "            victory_case[i, j] = 0\n",
    "        else:\n",
    "            victory_case[i, j] = 2\n",
    "\n",
    "total_case = dice_1 * dice_2\n",
    "player_1_win_prob = (victory_case == 1).sum() / total_case\n",
    "player_2_win_prob = (victory_case == 2).sum() / total_case\n",
    "draw_prob = (victory_case == 0).sum() / total_case\n",
    "print(f\"Player 1 win rate: {player_1_win_prob:.2f}\")\n",
    "print(f\"Player 2 win rate: {player_2_win_prob:.2f}\")\n",
    "print(f\"Draw rate: {draw_prob:.2f}\")\n"
   ]
  },
  {
   "cell_type": "code",
   "execution_count": 4,
   "metadata": {},
   "outputs": [
    {
     "data": {
      "text/plain": [
       "array([[0.41666667, 0.45      , 0.41666667, 0.45833333, 0.45      ,\n",
       "        0.33333333, 0.375     ],\n",
       "       [0.41666667, 0.41666667, 0.33333333, 0.41666667, 0.41666667,\n",
       "        0.45833333, 0.375     ],\n",
       "       [0.41666667, 0.45833333, 0.41666667, 0.375     , 0.41666667,\n",
       "        0.45      , 0.33333333],\n",
       "       [0.33333333, 0.375     , 0.41666667, 0.41666667, 0.45833333,\n",
       "        0.375     , 0.41666667],\n",
       "       [0.45      , 0.41666667, 0.45833333, 0.33333333, 0.41666667,\n",
       "        0.41666667, 0.375     ],\n",
       "       [0.41666667, 0.375     , 0.45      , 0.45      , 0.41666667,\n",
       "        0.33333333, 0.45833333],\n",
       "       [0.45833333, 0.45      , 0.45      , 0.33333333, 0.375     ,\n",
       "        0.41666667, 0.41666667]])"
      ]
     },
     "execution_count": 4,
     "metadata": {},
     "output_type": "execute_result"
    }
   ],
   "source": [
    "game_matrix.init_winning_probs()\n",
    "game_matrix.winnging_probs\n"
   ]
  },
  {
   "cell_type": "markdown",
   "metadata": {},
   "source": [
    "Cherchons la strategie qui a le plus de gain en terme d'esperance."
   ]
  },
  {
   "cell_type": "code",
   "execution_count": 5,
   "metadata": {},
   "outputs": [
    {
     "data": {
      "text/plain": [
       "array([4.14285714, 3.57142857, 3.85714286, 3.42857143, 3.85714286,\n",
       "       4.14285714, 4.14285714])"
      ]
     },
     "execution_count": 5,
     "metadata": {},
     "output_type": "execute_result"
    }
   ],
   "source": [
    "(game_matrix.dice_matrix.sum(axis=1)+game_matrix.n_strategies)/(game_matrix.n_strategies*2)"
   ]
  },
  {
   "cell_type": "markdown",
   "metadata": {},
   "source": [
    "Cherchons la strategie qui a le plus de chance d'avoir au minimum un match nul en moyenne"
   ]
  },
  {
   "cell_type": "code",
   "execution_count": 7,
   "metadata": {},
   "outputs": [
    {
     "data": {
      "text/plain": [
       "array([0.58571429, 0.5952381 , 0.59047619, 0.60119048, 0.59047619,\n",
       "       0.58571429, 0.58571429])"
      ]
     },
     "execution_count": 7,
     "metadata": {},
     "output_type": "execute_result"
    }
   ],
   "source": [
    "game_matrix.init_winning_probs(count_draws=True)\n",
    "game_matrix.winnging_probs.mean(axis=1)"
   ]
  }
 ],
 "metadata": {
  "kernelspec": {
   "display_name": "Python 3",
   "language": "python",
   "name": "python3"
  },
  "language_info": {
   "codemirror_mode": {
    "name": "ipython",
    "version": 3
   },
   "file_extension": ".py",
   "mimetype": "text/x-python",
   "name": "python",
   "nbconvert_exporter": "python",
   "pygments_lexer": "ipython3",
   "version": "3.10.8"
  }
 },
 "nbformat": 4,
 "nbformat_minor": 2
}
