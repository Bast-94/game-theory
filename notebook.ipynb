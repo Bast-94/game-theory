{
 "cells": [
  {
   "cell_type": "markdown",
   "metadata": {},
   "source": [
    "# Evaluation de Theories des jeux"
   ]
  },
  {
   "cell_type": "code",
   "execution_count": 1,
   "metadata": {},
   "outputs": [],
   "source": [
    "from sources import GameMatrix\n",
    "import numpy as np"
   ]
  },
  {
   "cell_type": "markdown",
   "metadata": {},
   "source": []
  },
  {
   "cell_type": "code",
   "execution_count": 2,
   "metadata": {},
   "outputs": [
    {
     "name": "stderr",
     "output_type": "stream",
     "text": [
      "/workspaces/game-theory/sources/game_matrix.py:28: FutureWarning: DataFrame.applymap has been deprecated. Use DataFrame.map instead.\n",
      "  df = df.applymap(dice_format)\n"
     ]
    },
    {
     "data": {
      "text/html": [
       "<div>\n",
       "<style scoped>\n",
       "    .dataframe tbody tr th:only-of-type {\n",
       "        vertical-align: middle;\n",
       "    }\n",
       "\n",
       "    .dataframe tbody tr th {\n",
       "        vertical-align: top;\n",
       "    }\n",
       "\n",
       "    .dataframe thead th {\n",
       "        text-align: right;\n",
       "    }\n",
       "</style>\n",
       "<table border=\"1\" class=\"dataframe\">\n",
       "  <thead>\n",
       "    <tr style=\"text-align: right;\">\n",
       "      <th></th>\n",
       "      <th>W</th>\n",
       "      <th>S</th>\n",
       "      <th>G</th>\n",
       "      <th>E</th>\n",
       "      <th>M</th>\n",
       "      <th>T</th>\n",
       "      <th>N</th>\n",
       "    </tr>\n",
       "  </thead>\n",
       "  <tbody>\n",
       "    <tr>\n",
       "      <th>W</th>\n",
       "      <td>D6</td>\n",
       "      <td>D10</td>\n",
       "      <td>D6</td>\n",
       "      <td>D12</td>\n",
       "      <td>D10</td>\n",
       "      <td>D3</td>\n",
       "      <td>D4</td>\n",
       "    </tr>\n",
       "    <tr>\n",
       "      <th>S</th>\n",
       "      <td>D6</td>\n",
       "      <td>D6</td>\n",
       "      <td>D3</td>\n",
       "      <td>D6</td>\n",
       "      <td>D6</td>\n",
       "      <td>D12</td>\n",
       "      <td>D4</td>\n",
       "    </tr>\n",
       "    <tr>\n",
       "      <th>G</th>\n",
       "      <td>D6</td>\n",
       "      <td>D12</td>\n",
       "      <td>D6</td>\n",
       "      <td>D4</td>\n",
       "      <td>D6</td>\n",
       "      <td>D10</td>\n",
       "      <td>D3</td>\n",
       "    </tr>\n",
       "    <tr>\n",
       "      <th>E</th>\n",
       "      <td>D3</td>\n",
       "      <td>D4</td>\n",
       "      <td>D6</td>\n",
       "      <td>D6</td>\n",
       "      <td>D12</td>\n",
       "      <td>D4</td>\n",
       "      <td>D6</td>\n",
       "    </tr>\n",
       "    <tr>\n",
       "      <th>M</th>\n",
       "      <td>D10</td>\n",
       "      <td>D6</td>\n",
       "      <td>D12</td>\n",
       "      <td>D3</td>\n",
       "      <td>D6</td>\n",
       "      <td>D6</td>\n",
       "      <td>D4</td>\n",
       "    </tr>\n",
       "    <tr>\n",
       "      <th>T</th>\n",
       "      <td>D6</td>\n",
       "      <td>D4</td>\n",
       "      <td>D10</td>\n",
       "      <td>D10</td>\n",
       "      <td>D6</td>\n",
       "      <td>D3</td>\n",
       "      <td>D12</td>\n",
       "    </tr>\n",
       "    <tr>\n",
       "      <th>N</th>\n",
       "      <td>D12</td>\n",
       "      <td>D10</td>\n",
       "      <td>D10</td>\n",
       "      <td>D3</td>\n",
       "      <td>D4</td>\n",
       "      <td>D6</td>\n",
       "      <td>D6</td>\n",
       "    </tr>\n",
       "  </tbody>\n",
       "</table>\n",
       "</div>"
      ],
      "text/plain": [
       "     W    S    G    E    M    T    N\n",
       "W   D6  D10   D6  D12  D10   D3   D4\n",
       "S   D6   D6   D3   D6   D6  D12   D4\n",
       "G   D6  D12   D6   D4   D6  D10   D3\n",
       "E   D3   D4   D6   D6  D12   D4   D6\n",
       "M  D10   D6  D12   D3   D6   D6   D4\n",
       "T   D6   D4  D10  D10   D6   D3  D12\n",
       "N  D12  D10  D10   D3   D4   D6   D6"
      ]
     },
     "execution_count": 2,
     "metadata": {},
     "output_type": "execute_result"
    }
   ],
   "source": [
    "game_matrix = GameMatrix()\n",
    "matrix_df = game_matrix.generate_df()\n",
    "matrix_df"
   ]
  },
  {
   "cell_type": "markdown",
   "metadata": {},
   "source": [
    "Calculons maintenant les probabilites de gain en fonction des differents duels: <br>\n",
    "**Exemple**:\n",
    "- Le joueur `1` fait `E`\n",
    "- Le joueur `2` fait `W`    \n",
    "- Le joueur `1` joue `D3`\n",
    "- Le joueur `2` joue `D12`\n",
    "- La probabilite que le joueur `1` gagne est donc la probabilite que le lancer d'un de de trois faces soit superieur a celui de 12 faces soit : $\\frac{3-1}{2*12}=\\frac{1}{24}$"
   ]
  },
  {
   "cell_type": "code",
   "execution_count": null,
   "metadata": {},
   "outputs": [],
   "source": [
    "dice_1 = 3\n",
    "dice_2 = 12\n"
   ]
  }
 ],
 "metadata": {
  "kernelspec": {
   "display_name": "Python 3",
   "language": "python",
   "name": "python3"
  },
  "language_info": {
   "codemirror_mode": {
    "name": "ipython",
    "version": 3
   },
   "file_extension": ".py",
   "mimetype": "text/x-python",
   "name": "python",
   "nbconvert_exporter": "python",
   "pygments_lexer": "ipython3",
   "version": "3.10.8"
  }
 },
 "nbformat": 4,
 "nbformat_minor": 2
}
